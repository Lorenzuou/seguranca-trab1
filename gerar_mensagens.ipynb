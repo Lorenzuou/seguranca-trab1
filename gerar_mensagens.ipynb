{
 "cells": [
  {
   "cell_type": "code",
   "execution_count": 30,
   "metadata": {},
   "outputs": [
    {
     "name": "stdout",
     "output_type": "stream",
     "text": [
      "Collecting pycryptodome\n",
      "  Downloading pycryptodome-3.20.0-cp35-abi3-manylinux_2_17_x86_64.manylinux2014_x86_64.whl (2.1 MB)\n",
      "\u001b[K     |████████████████████████████████| 2.1 MB 2.1 MB/s eta 0:00:01\n",
      "\u001b[?25hInstalling collected packages: pycryptodome\n",
      "Successfully installed pycryptodome-3.20.0\n",
      "{\"public_key\": \"-----BEGIN PUBLIC KEY-----\\nMIIBIjANBgkqhkiG9w0BAQEFAAOCAQ8AMIIBCgKCAQEAn5bEGy4NIhBaKItLzK3K\\nlJifgfRS++k3w6h3AZyWYsuUdvRv96NwKB8H5iD/COrg6AWYk6xfCRbQtMAv/bNM\\nFkG/rx1srgLn2T0S1GrF5sjGbI7ksppkTAdiG4nQJ7M0wZnslnik3n2jj8VWDGpy\\n6q/fgVUL4FKdyzWG3htJszrjs4axAbOLV5WjTZ/sObohKfj/R6bFyAgcXHCnpJ/H\\nXJbyqI2xF+j4L/pIC29gFUH/UMwkZi7dMDDRLVR+T/8c14GNzGhU/WK6whfbLIz0\\nyRcGwjs3qFw99ayQkcaAyqgopZygvQO2m3HPxZWk3rSLEHZuMo764REXrcxLF63H\\nsQIDAQAB\\n-----END PUBLIC KEY-----\", \"message\": \"vasco\", \"signature\": \"0bdff04875d31b52be36f54555c9cfed94961ad8a1375282a758a8f2048b5d7add271a981f572b58a1bb4dec11b956c5d5b04fb57bf77f6e9e2c0637055f032475fc0a300390f811014c5986d9562448d74f980e980187097ff817bc00feeff79c8b1f8fb9c048a1606cce9f96ccda00799d21d9a1b21ed47052a3db689b118216a98467af4564fdef63f6b67dd3b332c1609398199e2ac7afc8ae4da738a1aa53fe1a7bcfefc1cf85c5237bdf61097e09bcefc001405a6535967c297ae5c6487cd81f5ab48e6b1dea4458c84002c5ce8ab22c5afee7aa9d80ec868a1fb47fcf3a720fe2e8ef08bdb51c4b6fe3fa6e6a84ffd84d5c01153c152d2fdbd8aae7b3\", \"status\": \"accept\"}\n"
     ]
    }
   ],
   "source": [
    "!pip install pycryptodome\n",
    "from Crypto.PublicKey import RSA\n",
    "from Crypto.Signature import pkcs1_15\n",
    "from Crypto.Hash import SHA256\n",
    "import json\n",
    "\n",
    "# Step 1: Generate a private key\n",
    "private_key = RSA.generate(2048)\n",
    "\n",
    "# Serialize the private key\n",
    "private_key_pem = private_key.export_key().decode('utf-8')\n",
    "\n",
    "# Generate the public key\n",
    "public_key = private_key.publickey()\n",
    "public_key_pem = public_key.export_key().decode('utf-8')\n",
    "\n",
    "# Step 2: Sign a message\n",
    "message = b\"vasco\"\n",
    "h = SHA256.new(message)\n",
    "signature = pkcs1_15.new(private_key).sign(h)\n",
    "\n",
    "# Step 3: Format into JSON\n",
    "data = {\n",
    "    \"public_key\": public_key_pem,\n",
    "    \"message\": message.decode('utf-8'),\n",
    "    \"signature\": signature.hex(),\n",
    "    \"status\": \"accept\"  # or \"reject\" based on your requirement\n",
    "}\n",
    "\n",
    "json_data = json.dumps(data)\n",
    "# Save in file \n",
    "with open('exemplo_correto_2.json', 'w') as f:\n",
    "    f.write(json_data)\n",
    "\n",
    "# Print JSON data\n",
    "print(json_data)"
   ]
  }
 ],
 "metadata": {
  "kernelspec": {
   "display_name": "base",
   "language": "python",
   "name": "python3"
  },
  "language_info": {
   "codemirror_mode": {
    "name": "ipython",
    "version": 3
   },
   "file_extension": ".py",
   "mimetype": "text/x-python",
   "name": "python",
   "nbconvert_exporter": "python",
   "pygments_lexer": "ipython3",
   "version": "3.8.10"
  }
 },
 "nbformat": 4,
 "nbformat_minor": 2
}
